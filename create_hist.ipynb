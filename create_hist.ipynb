{
 "cells": [
  {
   "cell_type": "code",
   "execution_count": 116,
   "metadata": {},
   "outputs": [],
   "source": [
    "import pandas as pd"
   ]
  },
  {
   "cell_type": "code",
   "execution_count": 117,
   "metadata": {},
   "outputs": [],
   "source": [
    "df = pd.read_csv(\"hourly_averages.csv\")"
   ]
  },
  {
   "cell_type": "code",
   "execution_count": 118,
   "metadata": {},
   "outputs": [],
   "source": [
    "dates = []\n",
    "pressures = []\n",
    "rates = []\n",
    "status = []"
   ]
  },
  {
   "cell_type": "code",
   "execution_count": 119,
   "metadata": {},
   "outputs": [],
   "source": [
    "for x in df[\"date\"]:\n",
    "    y = pd.to_datetime(x)\n",
    "    z = y.strftime('%d %b %Y %H:%M:%S')\n",
    "    dates.append(z.upper())"
   ]
  },
  {
   "cell_type": "code",
   "execution_count": 120,
   "metadata": {},
   "outputs": [],
   "source": [
    "for x in df[\"pressure\"]:\n",
    "    pressures.append(x)"
   ]
  },
  {
   "cell_type": "code",
   "execution_count": 121,
   "metadata": {},
   "outputs": [],
   "source": [
    "for x in df[\"rate\"]:\n",
    "    rates.append(x)"
   ]
  },
  {
   "cell_type": "code",
   "execution_count": 122,
   "metadata": {},
   "outputs": [],
   "source": [
    "for x in rates:\n",
    "    if x == 0:\n",
    "        status.append(\"STOP\")\n",
    "    else:\n",
    "        status.append(\"OPEN\")"
   ]
  },
  {
   "cell_type": "code",
   "execution_count": 123,
   "metadata": {},
   "outputs": [],
   "source": [
    "with open(\"well_hist_no.inc\",'w') as file:\n",
    "        for num in range(0,len(dates)):\n",
    "           file.write(f\"\"\"\n",
    "           DATES\n",
    "           {dates[num]} /\n",
    "           /\\n\n",
    "           WCONHIST\n",
    "           WELL {status[num]} GRAT 1* 1* {rates[num]} 1* 1* 1* {pressures[num]} /\n",
    "           /\n",
    "           \\n\"\"\")"
   ]
  }
 ],
 "metadata": {
  "kernelspec": {
   "display_name": "Python 3",
   "language": "python",
   "name": "python3"
  },
  "language_info": {
   "codemirror_mode": {
    "name": "ipython",
    "version": 3
   },
   "file_extension": ".py",
   "mimetype": "text/x-python",
   "name": "python",
   "nbconvert_exporter": "python",
   "pygments_lexer": "ipython3",
   "version": "3.6.8"
  }
 },
 "nbformat": 4,
 "nbformat_minor": 2
}
